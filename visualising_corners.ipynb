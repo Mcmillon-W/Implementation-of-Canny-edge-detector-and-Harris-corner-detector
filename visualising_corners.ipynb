{
  "nbformat": 4,
  "nbformat_minor": 0,
  "metadata": {
    "colab": {
      "name": "visualising corners.ipynb",
      "provenance": []
    },
    "kernelspec": {
      "name": "python3",
      "display_name": "Python 3"
    }
  },
  "cells": [
    {
      "cell_type": "code",
      "metadata": {
        "id": "8AC01nGHSfRd"
      },
      "source": [
        "import os                                     #This code is just for making images purely for visualization process -\n",
        "from os.path import join                      # Combining the corner and original image\n",
        "import cmath\n",
        "import numpy as np\n",
        "import matplotlib.pyplot as plt\n",
        "import matplotlib.image as mpimg\n",
        "a=['dog.bmp','einstein.bmp','plane.bmp','bicycle.bmp','toy_image.jpg','bird.bmp']\n",
        "b=['dog1.bmp','einstein1.bmp','plane1.bmp','bicycle1.bmp','toy_image1.jpg','bird1.bmp']\n",
        "path= \"Output/vis/\"\n",
        "\n",
        "if(not(os.path.exists(path))):\n",
        "  os.makedirs(path)\n",
        "\n",
        "for i in range(len(a)):\n",
        "  img=mpimg.imread(a[i])\n",
        "  point=mpimg.imread(b[i])\n",
        "  point=np.array(point)\n",
        "  img=np.array(img)\n",
        "  z=np.zeros_like(img)\n",
        "  z[:,:,1]=img[:,:,1]\n",
        "  z[:,:,0]=img[:,:,0]\n",
        "  z[:,:,2]=img[:,:,2]\n",
        "  arr=point//255\n",
        "  img*=arr\n",
        "  z-=img\n",
        "  point[:,:,1]=np.zeros((point.shape[0],point.shape[1]))\n",
        "  point[:,:,2]=np.zeros((point.shape[0],point.shape[1]))\n",
        "  z+=point\n",
        "  mpimg.imsave(''.join([path,a[i]]),z)"
      ],
      "execution_count": null,
      "outputs": []
    },
    {
      "cell_type": "code",
      "metadata": {
        "id": "B-FldyV3fpPF",
        "outputId": "8fa17bf4-b617-4e90-c8fa-d6fde64b5e64",
        "colab": {
          "base_uri": "https://localhost:8080/",
          "height": 35
        }
      },
      "source": [
        "import shutil                      #Save the outputs \n",
        "shutil.make_archive('Output', 'zip', 'Output')"
      ],
      "execution_count": null,
      "outputs": [
        {
          "output_type": "execute_result",
          "data": {
            "application/vnd.google.colaboratory.intrinsic+json": {
              "type": "string"
            },
            "text/plain": [
              "'/content/Output.zip'"
            ]
          },
          "metadata": {
            "tags": []
          },
          "execution_count": 2
        }
      ]
    }
  ]
}